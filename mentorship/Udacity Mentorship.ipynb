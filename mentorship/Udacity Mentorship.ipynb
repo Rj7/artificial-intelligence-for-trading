{
 "cells": [
  {
   "cell_type": "markdown",
   "metadata": {
    "slideshow": {
     "slide_type": "slide"
    }
   },
   "source": [
    "#                           AI for Trading Nanodegree"
   ]
  },
  {
   "cell_type": "markdown",
   "metadata": {},
   "source": [
    "## Overview of the lecture\n",
    "\n",
    "1. Where can you put your money in? What are the risk and return characteristics of different assert class?\n",
    "2. Stock Market and its components\n",
    "3. Data and Analysis\n"
   ]
  },
  {
   "cell_type": "markdown",
   "metadata": {
    "slideshow": {
     "slide_type": "slide"
    }
   },
   "source": [
    "## Asset Classes\n",
    "\n",
    "Different types of asset classes based on their risks and returns.\n"
   ]
  },
  {
   "cell_type": "markdown",
   "metadata": {
    "slideshow": {
     "slide_type": "slide"
    }
   },
   "source": [
    "### Fixed Income\n",
    "\n",
    "<img style=\"float:left\" src=\"https://zerodha.com/varsity/wp-content/uploads/2014/07/fixed-inst-icon.png\" alt=\"Fixed Income\" title=\"Title text\" >\n",
    "\n",
    "       1. Limited risk, protects pricipal amount.\n",
    "       2. Fixed deposit by banks, corporate bonds, government bonds\n",
    "       3. Returns usually few base points over inflation.\n",
    "       4. Returns: 3%-8% depends on the country. US bonds 10 years = ~ 2.75%; India bonds 10 years = ~7.5%\n",
    "\n"
   ]
  },
  {
   "cell_type": "markdown",
   "metadata": {
    "slideshow": {
     "slide_type": "subslide"
    }
   },
   "source": [
    "### Real Estate\n",
    "\n",
    "<img style=\"float:left\" src=\"http://zerodha.com/varsity/wp-content/uploads/2014/07/real-estate-icon.png\" alt=\"Real Estate\" title=\"Title text\" >\n",
    "\n",
    "       1. Lands, sites, apartments, etc..\n",
    "       2. Low liquidity.\n",
    "       3. Large amount of cash required.\n",
    "       4. Can't quantify returns as precisly as other asset classes\n",
    "\n"
   ]
  },
  {
   "cell_type": "markdown",
   "metadata": {
    "slideshow": {
     "slide_type": "subslide"
    }
   },
   "source": [
    "### Commodity\n",
    "\n",
    "<img style=\"float:left\" src=\"http://zerodha.com/varsity/wp-content/uploads/2014/07/commodity-icon.png\" alt=\"Real Estate\" title=\"Title text\" >\n",
    "\n",
    "       1. Gold, Silver, Oil, Metals, etc..\n",
    "       2. Gold yeilded ~8% CAGR return over the last 20 years.\n",
    "       3. Depends entirely on the commodity\n",
    "\n"
   ]
  },
  {
   "cell_type": "markdown",
   "metadata": {},
   "source": [
    "### Stock market\n",
    "\n",
    "\n",
    "<img style=\"float:left\" src=\"http://zerodha.com/varsity/wp-content/uploads/2014/07/equity-icon1.png\" alt=\"Real Estate\" title=\"Title text\" >\n",
    "\n",
    "       1. Buying shares in publically traded companies. Own a part of a company\n",
    "       2. No guarentee on pricipal.\n",
    "       3. Shown to be the best investment in the long term\n",
    "       4. Indian equity market 20% CAGR in last 20 years\n",
    "       5. Easy to liquidate"
   ]
  },
  {
   "cell_type": "markdown",
   "metadata": {},
   "source": [
    "## How stock markets work:\n",
    "\n",
    "\n",
    "Sellers -> Brokarage -> ( Stock Exchange <--> Market Maker ) -> Brokerage -> Buyers\n"
   ]
  },
  {
   "cell_type": "markdown",
   "metadata": {},
   "source": [
    "- Stock Exchange: Authority to ensure every buyer and seller get the best available price for the stock they want to trade\n",
    "- Market Makers : Financial firm that buys and sells stocks at publically advertised prices to maintain liquidity\n",
    "- Brokarage : Financial firms that buys and sells on behalf of the investors\n",
    "\n",
    "    \n"
   ]
  },
  {
   "cell_type": "markdown",
   "metadata": {},
   "source": [
    "## Data"
   ]
  },
  {
   "cell_type": "markdown",
   "metadata": {},
   "source": [
    "### Market Data:\n",
    "- Annual and quarterly data that companies publish\n",
    "- News Data\n",
    "- Stock exchange publish data on individual trades a.k.a tick data\n",
    "- Extremely large amount of data.\n",
    "- Can't to formatted to include only most important information\n",
    "\n",
    "<img style=\"float:left\" src=\"tick.png\" alt=\"Real Estate\" title=\"Title text\" >\n"
   ]
  },
  {
   "cell_type": "markdown",
   "metadata": {},
   "source": [
    "** Open, High, Low, and Close **\n",
    "<img style=\"float:left\" src=\"ohlc.png\" alt=\"Real Estate\" title=\"Title text\" >"
   ]
  },
  {
   "cell_type": "markdown",
   "metadata": {},
   "source": [
    "** OHLC Chart **\n",
    "<img style=\"float:left\" src=\"ohlc2.png\" alt=\"Real Estate\" title=\"Title text\" >"
   ]
  },
  {
   "cell_type": "markdown",
   "metadata": {},
   "source": [
    "### Return $r = (p_t - p_{t-1})/p_{t-1}$ \n",
    "\n",
    "where $p_t$ is the price of an asset p at time period t \n",
    "\n",
    "Returns over multiple days or months can give us a trend"
   ]
  },
  {
   "cell_type": "markdown",
   "metadata": {},
   "source": [
    "## Analysis"
   ]
  },
  {
   "cell_type": "markdown",
   "metadata": {},
   "source": [
    "## Technical Analysis\n",
    "\n",
    "- Identify trading opportunities by analysis patterns in market. \n",
    "- Allows you to scan for opportunities based on the current trend. \n",
    "- Can visualise actions of market participants by means of a stock chart\n",
    "- Best suited for Short terms trading\n",
    "- Market discounts everything\n",
    "- Suited for all asset classes\n",
    "- Example: Moving Averages, Candlestick patterns, Relative Strength Index Indicator"
   ]
  },
  {
   "cell_type": "markdown",
   "metadata": {},
   "source": [
    "## Fundamental Analysis\n",
    "- Can be done on annual, quarterly reports of the companies\n",
    "- Study of fundamentals of a business, industry in which it operates\n",
    "- Analyzing profit and loss, balance sheet, and cash flow statements for equity\n",
    "- Analyzing rainfall, harvest, demand, supply, inventory for agricultural commodity\n",
    "- Essential for long term investing"
   ]
  },
  {
   "cell_type": "markdown",
   "metadata": {
    "scrolled": true
   },
   "source": [
    "Both Technical analysis and fundamental analysis should coexist as a part of your market strategy"
   ]
  },
  {
   "cell_type": "markdown",
   "metadata": {},
   "source": [
    "** 100k Invest for 20 years on 10% returns**\n"
   ]
  },
  {
   "cell_type": "markdown",
   "metadata": {},
   "source": [
    " <img style=\"float:left\" src=\"10.png\" alt=\"10% returns for 20 years\" title=\"10% returns for 20 years\" >"
   ]
  },
  {
   "cell_type": "markdown",
   "metadata": {},
   "source": [
    "** 100k Invest for 20 years on 16% returns**"
   ]
  },
  {
   "cell_type": "markdown",
   "metadata": {},
   "source": [
    "<img style=\"float:left\" src=\"16.png\" alt=\"16% returns for 20 years\" title=\"16% returns for 20 years\" >"
   ]
  },
  {
   "cell_type": "markdown",
   "metadata": {},
   "source": [
    "## Summary\n",
    "- We looked at different asset class and their returns\n",
    "- We looked briefly at how markets function\n",
    "- We looked at different types of data and analysis that we perform in our quant workflow"
   ]
  },
  {
   "cell_type": "markdown",
   "metadata": {},
   "source": [
    "References:\n",
    "    - Zerodha Varsity\n",
    "    - Udacity Artificial Intelligence for Trading"
   ]
  }
 ],
 "metadata": {
  "kernelspec": {
   "display_name": "Python 3",
   "language": "python",
   "name": "python3"
  },
  "language_info": {
   "codemirror_mode": {
    "name": "ipython",
    "version": 3
   },
   "file_extension": ".py",
   "mimetype": "text/x-python",
   "name": "python",
   "nbconvert_exporter": "python",
   "pygments_lexer": "ipython3",
   "version": "3.6.4"
  }
 },
 "nbformat": 4,
 "nbformat_minor": 2
}
