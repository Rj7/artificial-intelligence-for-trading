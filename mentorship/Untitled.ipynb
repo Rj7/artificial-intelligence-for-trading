{
 "cells": [
  {
   "cell_type": "markdown",
   "metadata": {},
   "source": [
    "Hello everybody, I am Raja Gunasekaran. This demo video is done as a part of my applicaiton for udacity mentorship program for the Artificial Intelligence for trading nanodegree."
   ]
  },
  {
   "cell_type": "markdown",
   "metadata": {},
   "source": [
    "In this video, I am going to give a broad overview of three important topic of this nanodegree program.\n",
    "\n",
    "As an investor or a trader, where can we put our money to safeguard against inflation? What are the risk and return characteristics of different assert class?\n",
    "\n",
    "what is a stock market and How does it function?. Who are the different players in this whole and what are their roles?\n",
    "\n",
    "Data Analysis\n",
    "What are the different types of data that we can work with in respect to the stock market? What are different kinds of analysis that we can do on these data."
   ]
  },
  {
   "cell_type": "markdown",
   "metadata": {},
   "source": [
    "The general rule among these asset classes is that\n",
    "Higher the risk, higher the return. Lower the risk, lower is the return. With that in mind, "
   ]
  },
  {
   "cell_type": "markdown",
   "metadata": {},
   "source": [
    "Trading is generating money from buying and selling. Investing is building our wealth over a long period of time."
   ]
  },
  {
   "cell_type": "markdown",
   "metadata": {},
   "source": [
    "When we look at these assets classes here, we look at it through the eyes of an investor. Not trader. But understanding where does equity market fit it among other asset classes is very important."
   ]
  }
 ],
 "metadata": {
  "kernelspec": {
   "display_name": "Python 3",
   "language": "python",
   "name": "python3"
  },
  "language_info": {
   "codemirror_mode": {
    "name": "ipython",
    "version": 3
   },
   "file_extension": ".py",
   "mimetype": "text/x-python",
   "name": "python",
   "nbconvert_exporter": "python",
   "pygments_lexer": "ipython3",
   "version": "3.6.4"
  }
 },
 "nbformat": 4,
 "nbformat_minor": 2
}
